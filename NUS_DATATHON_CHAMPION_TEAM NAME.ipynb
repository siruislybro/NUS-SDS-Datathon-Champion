{
 "cells": [
  {
   "cell_type": "markdown",
   "metadata": {},
   "source": [
    "##### The cell below is for you to keep track of the libraries used and install those libraries quickly\n",
    "##### Ensure that the proper library names are used and the syntax of `%pip install PACKAGE_NAME` is followed"
   ]
  },
  {
   "cell_type": "code",
   "execution_count": 3,
   "metadata": {},
   "outputs": [
    {
     "name": "stdout",
     "output_type": "stream",
     "text": [
      "Defaulting to user installation because normal site-packages is not writeable\n",
      "Requirement already satisfied: scikit-learn in /Users/jirawan/Library/Python/3.9/lib/python/site-packages (1.4.0)\n",
      "Requirement already satisfied: joblib>=1.2.0 in /Users/jirawan/Library/Python/3.9/lib/python/site-packages (from scikit-learn) (1.3.2)\n",
      "Requirement already satisfied: threadpoolctl>=2.0.0 in /Users/jirawan/Library/Python/3.9/lib/python/site-packages (from scikit-learn) (3.2.0)\n",
      "Requirement already satisfied: scipy>=1.6.0 in /Users/jirawan/Library/Python/3.9/lib/python/site-packages (from scikit-learn) (1.12.0)\n",
      "Requirement already satisfied: numpy<2.0,>=1.19.5 in /Users/jirawan/Library/Python/3.9/lib/python/site-packages (from scikit-learn) (1.26.3)\n",
      "\u001b[33mWARNING: You are using pip version 21.2.4; however, version 23.3.2 is available.\n",
      "You should consider upgrading via the '/Library/Developer/CommandLineTools/usr/bin/python3 -m pip install --upgrade pip' command.\u001b[0m\n",
      "Note: you may need to restart the kernel to use updated packages.\n"
     ]
    }
   ],
   "source": [
    "# %pip install pandas \n",
    "# %pip install matplotlib\n",
    "# %pip install statsmodels\n",
    "#%pip install seaborn\n",
    "%pip install scikit-learn\n",
    "# add commented pip installation lines for packages used as shown above for ease of testing\n",
    "# the line should be of the format %pip install PACKAGE_NAME "
   ]
  },
  {
   "cell_type": "markdown",
   "metadata": {},
   "source": [
    "## **DO NOT CHANGE** the filepath variable\n",
    "##### Instead, create a folder named 'data' in your current working directory and \n",
    "##### have the .csv file inside that. A relative path *must* be used when loading data into pandas"
   ]
  },
  {
   "cell_type": "code",
   "execution_count": 26,
   "metadata": {},
   "outputs": [],
   "source": [
    "# Can have as many cells as you want for code\n",
    "import pandas as pd\n",
    "import matplotlib.pyplot as plt\n",
    "import seaborn as sns\n",
    "import statsmodels.formula.api as sm\n",
    "\n",
    "filepath = \"./data/catA_train.csv\" \n",
    "# the initialised filepath MUST be a relative path to a folder named data that contains the parquet file"
   ]
  },
  {
   "cell_type": "markdown",
   "metadata": {},
   "source": [
    "### **ALL** Code for machine learning and dataset analysis should be entered below. \n",
    "##### Ensure that your code is clear and readable.\n",
    "##### Comments and Markdown notes are advised to direct attention to pieces of code you deem useful."
   ]
  },
  {
   "cell_type": "code",
   "execution_count": 27,
   "metadata": {},
   "outputs": [
    {
     "data": {
      "text/plain": [
       "433.99995676000003"
      ]
     },
     "execution_count": 27,
     "metadata": {},
     "output_type": "execute_result"
    }
   ],
   "source": [
    "###...code...###\n",
    "df = pd.read_csv(filepath)\n",
    "df.head\n",
    "df.shape\n",
    "\n",
    "# check if global ultimate company = domestic ultimate company means domestic sale = global sale\n",
    "a = df.loc[df['Global Ultimate Company'] == df['Domestic Ultimate Company']] \n",
    "b = a.loc[df['Sales (Domestic Ultimate Total USD)'] != df['Sales (Global Ultimate Total USD)']]\n",
    "\n",
    "a.shape #(18566, 28) \n",
    "b.shape #(18545, 28)\n",
    "\n",
    "df['Industry'].nunique() # too many industries 580\n",
    "df['8-Digit SIC Description'].nunique() #2191\n",
    "df['8-Digit SIC Code'].nunique() #2255\n",
    "df['SIC Code'].nunique() #582\n",
    "c = df.loc[df['SIC Code']>1799]\n",
    "d = c.loc[c['SIC Code']<4000]\n",
    "\n",
    "\n",
    "df.loc[df['Entity Type']=='Independent']\n",
    "df.loc[df['Sales (Domestic Ultimate Total USD)'] > df['Sales (Global Ultimate Total USD)']] #2675\n",
    "\n",
    "df.shape\n",
    "\n",
    "29182 *  0.01487218\n",
    "\n"
   ]
  },
  {
   "cell_type": "code",
   "execution_count": 28,
   "metadata": {},
   "outputs": [],
   "source": [
    "## replace the SIC Code with Sector name\n",
    "new_df = df.copy()\n",
    "\n",
    "new_df.loc[new_df['SIC Code'].between(100, 999), 'SIC Industry'] = 'Agriculture'"
   ]
  },
  {
   "cell_type": "code",
   "execution_count": 29,
   "metadata": {},
   "outputs": [
    {
     "data": {
      "text/plain": [
       "1550"
      ]
     },
     "execution_count": 29,
     "metadata": {},
     "output_type": "execute_result"
    }
   ],
   "source": [
    "## Replace missing values in Year Found by the median 2008 \n",
    "\n",
    "new_df['Year Found'].describe()\n",
    "\n",
    "new_df['Year Found'] = new_df['Year Found'].fillna(2008)\n",
    "\n",
    "\n",
    "new_df['Year Found'].describe()\n",
    "df['Year Found'].describe()\n",
    "\n",
    "len(df.loc[df['Year Found']==2008])\n",
    "len(new_df.loc[new_df['Year Found']==2008])\n",
    "\n",
    "\n"
   ]
  },
  {
   "cell_type": "code",
   "execution_count": 30,
   "metadata": {},
   "outputs": [
    {
     "name": "stdout",
     "output_type": "stream",
     "text": [
      "Axes(0.125,0.11;0.775x0.77)\n",
      "                                     Year Found  \\\n",
      "Year Found                             1.000000   \n",
      "Sales (Domestic Ultimate Total USD)    0.014523   \n",
      "\n",
      "                                     Sales (Domestic Ultimate Total USD)  \n",
      "Year Found                                                      0.014523  \n",
      "Sales (Domestic Ultimate Total USD)                             1.000000  \n"
     ]
    },
    {
     "data": {
      "text/html": [
       "<div>\n",
       "<style scoped>\n",
       "    .dataframe tbody tr th:only-of-type {\n",
       "        vertical-align: middle;\n",
       "    }\n",
       "\n",
       "    .dataframe tbody tr th {\n",
       "        vertical-align: top;\n",
       "    }\n",
       "\n",
       "    .dataframe thead th {\n",
       "        text-align: right;\n",
       "    }\n",
       "</style>\n",
       "<table border=\"1\" class=\"dataframe\">\n",
       "  <thead>\n",
       "    <tr style=\"text-align: right;\">\n",
       "      <th></th>\n",
       "      <th>Employees (Domestic Ultimate Total)</th>\n",
       "      <th>Employees (Single Site)</th>\n",
       "    </tr>\n",
       "  </thead>\n",
       "  <tbody>\n",
       "    <tr>\n",
       "      <th>Employees (Domestic Ultimate Total)</th>\n",
       "      <td>1.000000</td>\n",
       "      <td>0.139117</td>\n",
       "    </tr>\n",
       "    <tr>\n",
       "      <th>Employees (Single Site)</th>\n",
       "      <td>0.139117</td>\n",
       "      <td>1.000000</td>\n",
       "    </tr>\n",
       "  </tbody>\n",
       "</table>\n",
       "</div>"
      ],
      "text/plain": [
       "                                     Employees (Domestic Ultimate Total)  \\\n",
       "Employees (Domestic Ultimate Total)                             1.000000   \n",
       "Employees (Single Site)                                         0.139117   \n",
       "\n",
       "                                     Employees (Single Site)  \n",
       "Employees (Domestic Ultimate Total)                 0.139117  \n",
       "Employees (Single Site)                             1.000000  "
      ]
     },
     "execution_count": 30,
     "metadata": {},
     "output_type": "execute_result"
    },
    {
     "data": {
      "image/png": "[encoded data removed]",
      "text/plain": [
       "<Figure size 640x480 with 1 Axes>"
      ]
     },
     "metadata": {},
     "output_type": "display_data"
    }
   ],
   "source": [
    "## Explore Employees (Domestic Ultimate Total)\n",
    "\n",
    "new_df['Employees (Domestic Ultimate Total)'].describe() #mean = 139.764182\n",
    "# new_df.loc[new_df['Employees (Domestic Ultimate Total)'] == 80000]\n",
    "\n",
    "a = new_df[new_df['Employees (Domestic Ultimate Total)']<50000] ## remove the two rows where they have 80000 workers\n",
    "\n",
    "a['Employees (Domestic Ultimate Total)'].describe() #mean = 134.275695\n",
    "\n",
    "print(df.plot.scatter(x = 'Employees (Domestic Ultimate Total)', y = 'Employees (Single Site)'))\n",
    "\n",
    "new_df.loc[new_df['Employees (Domestic Ultimate Total)'].isna()][['Employees (Single Site)','Employees (Domestic Ultimate Total)']]\n",
    "\n",
    "print(df[['Year Found', 'Sales (Domestic Ultimate Total USD)']].corr())\n",
    "\n",
    "df[['Employees (Domestic Ultimate Total)', 'Employees (Single Site)']].corr()"
   ]
  },
  {
   "cell_type": "code",
   "execution_count": 31,
   "metadata": {},
   "outputs": [
    {
     "name": "stdout",
     "output_type": "stream",
     "text": [
      "                                        OLS Regression Results                                       \n",
      "=====================================================================================================\n",
      "Dep. Variable:     df['Employees (Domestic Ultimate Total)']   R-squared:                       0.019\n",
      "Model:                                                   OLS   Adj. R-squared:                  0.019\n",
      "Method:                                        Least Squares   F-statistic:                     329.6\n",
      "Date:                                       Sun, 28 Jan 2024   Prob (F-statistic):           5.79e-73\n",
      "Time:                                               02:03:55   Log-Likelihood:            -1.4246e+05\n",
      "No. Observations:                                      16705   AIC:                         2.849e+05\n",
      "Df Residuals:                                          16703   BIC:                         2.849e+05\n",
      "Df Model:                                                  1                                         \n",
      "Covariance Type:                                   nonrobust                                         \n",
      "=================================================================================================\n",
      "                                    coef    std err          t      P>|t|      [0.025      0.975]\n",
      "-------------------------------------------------------------------------------------------------\n",
      "Intercept                       124.1206      9.671     12.835      0.000     105.165     143.076\n",
      "df['Employees (Single Site)']     0.9913      0.055     18.156      0.000       0.884       1.098\n",
      "==============================================================================\n",
      "Omnibus:                    42615.815   Durbin-Watson:                   1.994\n",
      "Prob(Omnibus):                  0.000   Jarque-Bera (JB):       1173551582.466\n",
      "Skew:                          28.578   Prob(JB):                         0.00\n",
      "Kurtosis:                    1300.216   Cond. No.                         181.\n",
      "==============================================================================\n",
      "\n",
      "Notes:\n",
      "[1] Standard Errors assume that the covariance matrix of the errors is correctly specified.\n"
     ]
    },
    {
     "data": {
      "text/html": [
       "<div>\n",
       "<style scoped>\n",
       "    .dataframe tbody tr th:only-of-type {\n",
       "        vertical-align: middle;\n",
       "    }\n",
       "\n",
       "    .dataframe tbody tr th {\n",
       "        vertical-align: top;\n",
       "    }\n",
       "\n",
       "    .dataframe thead th {\n",
       "        text-align: right;\n",
       "    }\n",
       "</style>\n",
       "<table border=\"1\" class=\"dataframe\">\n",
       "  <thead>\n",
       "    <tr style=\"text-align: right;\">\n",
       "      <th></th>\n",
       "      <th>Employees (Single Site)</th>\n",
       "      <th>Employees (Domestic Ultimate Total)</th>\n",
       "    </tr>\n",
       "  </thead>\n",
       "  <tbody>\n",
       "    <tr>\n",
       "      <th>7727</th>\n",
       "      <td>NaN</td>\n",
       "      <td>NaN</td>\n",
       "    </tr>\n",
       "    <tr>\n",
       "      <th>10768</th>\n",
       "      <td>NaN</td>\n",
       "      <td>NaN</td>\n",
       "    </tr>\n",
       "    <tr>\n",
       "      <th>16455</th>\n",
       "      <td>NaN</td>\n",
       "      <td>NaN</td>\n",
       "    </tr>\n",
       "    <tr>\n",
       "      <th>20822</th>\n",
       "      <td>NaN</td>\n",
       "      <td>NaN</td>\n",
       "    </tr>\n",
       "    <tr>\n",
       "      <th>22660</th>\n",
       "      <td>NaN</td>\n",
       "      <td>NaN</td>\n",
       "    </tr>\n",
       "  </tbody>\n",
       "</table>\n",
       "</div>"
      ],
      "text/plain": [
       "       Employees (Single Site)  Employees (Domestic Ultimate Total)\n",
       "7727                       NaN                                  NaN\n",
       "10768                      NaN                                  NaN\n",
       "16455                      NaN                                  NaN\n",
       "20822                      NaN                                  NaN\n",
       "22660                      NaN                                  NaN"
      ]
     },
     "execution_count": 31,
     "metadata": {},
     "output_type": "execute_result"
    }
   ],
   "source": [
    "## Run OLS on Employees (Domestic Ultimate Total) using Emplyees (Single Site)\n",
    "result = sm.ols(formula=\"df['Employees (Domestic Ultimate Total)'] ~ df['Employees (Single Site)']\", data=df).fit()\n",
    "print(result.summary())\n",
    "\n",
    "# the result is significant, so can replace missing values with Employees (Single Site)\n",
    "new_df['Employees (Domestic Ultimate Total)']= new_df['Employees (Domestic Ultimate Total)'].fillna(new_df['Employees (Single Site)'])\n",
    "\n",
    "# only five rows where we cannot replace with Employees (Single Site) -> remove these rows? \n",
    "new_df.loc[new_df['Employees (Domestic Ultimate Total)'].isna()][['Employees (Single Site)','Employees (Domestic Ultimate Total)']]  \n"
   ]
  },
  {
   "cell_type": "code",
   "execution_count": 32,
   "metadata": {},
   "outputs": [],
   "source": [
    "# convert SIC Code into Industrys and add a new column to the new_df\n",
    "industry_mapping = {\n",
    "    (101, 999): 'Agriculture',\n",
    "    (1002, 1499): 'Mining',\n",
    "    (1500, 1799): 'Construction',\n",
    "    (2000, 3999): 'Manufacturing',\n",
    "    (4000, 4999): 'Transportation',\n",
    "    (5000, 5199): 'Wholesales',\n",
    "    (5200, 5999): 'Retail',\n",
    "    (6000, 6799): 'Finance',\n",
    "    (7000, 8999): 'Services',\n",
    "    (9000, 9899): 'Public',\n",
    "    (9900, 10000): 'Others'\n",
    "}\n",
    "def map_to_industry(sic_code):\n",
    "    for code_range, industry in industry_mapping.items():\n",
    "        if code_range[0] < sic_code <= code_range[1]:\n",
    "            return industry\n",
    "    return 'Other'\n",
    "\n",
    "# Create a new column 'Industry' based on the mapping\n",
    "new_df['Industrys'] = new_df['SIC Code'].map(map_to_industry)"
   ]
  },
  {
   "cell_type": "code",
   "execution_count": 33,
   "metadata": {},
   "outputs": [
    {
     "data": {
      "text/html": [
       "<div>\n",
       "<style scoped>\n",
       "    .dataframe tbody tr th:only-of-type {\n",
       "        vertical-align: middle;\n",
       "    }\n",
       "\n",
       "    .dataframe tbody tr th {\n",
       "        vertical-align: top;\n",
       "    }\n",
       "\n",
       "    .dataframe thead th {\n",
       "        text-align: right;\n",
       "    }\n",
       "</style>\n",
       "<table border=\"1\" class=\"dataframe\">\n",
       "  <thead>\n",
       "    <tr style=\"text-align: right;\">\n",
       "      <th></th>\n",
       "      <th>Import/Export Status</th>\n",
       "      <th>Sales (Domestic Ultimate Total USD)</th>\n",
       "    </tr>\n",
       "  </thead>\n",
       "  <tbody>\n",
       "    <tr>\n",
       "      <th>Import/Export Status</th>\n",
       "      <td>1.000000</td>\n",
       "      <td>-0.005679</td>\n",
       "    </tr>\n",
       "    <tr>\n",
       "      <th>Sales (Domestic Ultimate Total USD)</th>\n",
       "      <td>-0.005679</td>\n",
       "      <td>1.000000</td>\n",
       "    </tr>\n",
       "  </tbody>\n",
       "</table>\n",
       "</div>"
      ],
      "text/plain": [
       "                                     Import/Export Status  \\\n",
       "Import/Export Status                             1.000000   \n",
       "Sales (Domestic Ultimate Total USD)             -0.005679   \n",
       "\n",
       "                                     Sales (Domestic Ultimate Total USD)  \n",
       "Import/Export Status                                           -0.005679  \n",
       "Sales (Domestic Ultimate Total USD)                             1.000000  "
      ]
     },
     "execution_count": 33,
     "metadata": {},
     "output_type": "execute_result"
    },
    {
     "data": {
      "image/png": "[encoded data removed]",
      "text/plain": [
       "<Figure size 640x480 with 1 Axes>"
      ]
     },
     "metadata": {},
     "output_type": "display_data"
    }
   ],
   "source": [
    "# barplot of sales(domestic) vs industrys\n",
    "new_df.plot.box(by = 'Industrys',column = 'Sales (Domestic Ultimate Total USD)')\n",
    "#test correlation between 'import/export status' and 'sales (domestic ultimate total)'\n",
    "df_import = new_df.copy()\n",
    "\n",
    "# Simple assumption that BLANK in import/export means NEITHER\n",
    "#if import/export status is NaN replace with 0, otherwise 1\n",
    "df_import['Import/Export Status']=df_import['Import/Export Status'].fillna(0).map(lambda x:0 if x==0 else 1)\n",
    "df_import[['Import/Export Status','Sales (Domestic Ultimate Total USD)']].corr()\n",
    "\n",
    "\n",
    "# To do \n",
    "# MAKE BARPLOT OF SALES AGAINST IMPORT, EXPORT, IMPORT/EXPORT, and NAN \n"
   ]
  },
  {
   "cell_type": "code",
   "execution_count": 50,
   "metadata": {},
   "outputs": [
    {
     "data": {
      "text/html": [
       "<div>\n",
       "<style scoped>\n",
       "    .dataframe tbody tr th:only-of-type {\n",
       "        vertical-align: middle;\n",
       "    }\n",
       "\n",
       "    .dataframe tbody tr th {\n",
       "        vertical-align: top;\n",
       "    }\n",
       "\n",
       "    .dataframe thead th {\n",
       "        text-align: right;\n",
       "    }\n",
       "</style>\n",
       "<table border=\"1\" class=\"dataframe\">\n",
       "  <thead>\n",
       "    <tr style=\"text-align: right;\">\n",
       "      <th></th>\n",
       "      <th>Year Found</th>\n",
       "      <th>Entity Type</th>\n",
       "      <th>Ownership Type</th>\n",
       "      <th>Employees (Domestic Ultimate Total)</th>\n",
       "      <th>Sales (Domestic Ultimate Total USD)</th>\n",
       "      <th>Is Domestic Ultimate</th>\n",
       "      <th>Industrys</th>\n",
       "    </tr>\n",
       "  </thead>\n",
       "  <tbody>\n",
       "    <tr>\n",
       "      <th>0</th>\n",
       "      <td>2020.0</td>\n",
       "      <td>Subsidiary</td>\n",
       "      <td>Private</td>\n",
       "      <td>25.0</td>\n",
       "      <td>2.209224e+06</td>\n",
       "      <td>0.0</td>\n",
       "      <td>Services</td>\n",
       "    </tr>\n",
       "    <tr>\n",
       "      <th>1</th>\n",
       "      <td>2015.0</td>\n",
       "      <td>Subsidiary</td>\n",
       "      <td>Private</td>\n",
       "      <td>100.0</td>\n",
       "      <td>7.093536e+09</td>\n",
       "      <td>0.0</td>\n",
       "      <td>Transportation</td>\n",
       "    </tr>\n",
       "    <tr>\n",
       "      <th>2</th>\n",
       "      <td>1993.0</td>\n",
       "      <td>Subsidiary</td>\n",
       "      <td>Private</td>\n",
       "      <td>4.0</td>\n",
       "      <td>1.026308e+06</td>\n",
       "      <td>1.0</td>\n",
       "      <td>Finance</td>\n",
       "    </tr>\n",
       "    <tr>\n",
       "      <th>3</th>\n",
       "      <td>2006.0</td>\n",
       "      <td>Subsidiary</td>\n",
       "      <td>Private</td>\n",
       "      <td>100.0</td>\n",
       "      <td>7.339898e+10</td>\n",
       "      <td>0.0</td>\n",
       "      <td>Finance</td>\n",
       "    </tr>\n",
       "    <tr>\n",
       "      <th>4</th>\n",
       "      <td>2006.0</td>\n",
       "      <td>Parent</td>\n",
       "      <td>Private</td>\n",
       "      <td>4.0</td>\n",
       "      <td>4.322130e+05</td>\n",
       "      <td>1.0</td>\n",
       "      <td>Finance</td>\n",
       "    </tr>\n",
       "  </tbody>\n",
       "</table>\n",
       "</div>"
      ],
      "text/plain": [
       "   Year Found Entity Type Ownership Type  Employees (Domestic Ultimate Total)  \\\n",
       "0      2020.0  Subsidiary        Private                                 25.0   \n",
       "1      2015.0  Subsidiary        Private                                100.0   \n",
       "2      1993.0  Subsidiary        Private                                  4.0   \n",
       "3      2006.0  Subsidiary        Private                                100.0   \n",
       "4      2006.0      Parent        Private                                  4.0   \n",
       "\n",
       "   Sales (Domestic Ultimate Total USD)  Is Domestic Ultimate       Industrys  \n",
       "0                         2.209224e+06                   0.0        Services  \n",
       "1                         7.093536e+09                   0.0  Transportation  \n",
       "2                         1.026308e+06                   1.0         Finance  \n",
       "3                         7.339898e+10                   0.0         Finance  \n",
       "4                         4.322130e+05                   1.0         Finance  "
      ]
     },
     "execution_count": 50,
     "metadata": {},
     "output_type": "execute_result"
    }
   ],
   "source": [
    "\n",
    "variables_to_remove = [\n",
    "    'LATITUDE', 'LONGITUDE', 'AccountID', 'Company', '8-Digit SIC Code',\n",
    "    'Parent Country', 'Import/Export Status', 'Domestic Ultimate Company',\n",
    "    '8-Digit SIC Description', 'Company Description', 'Company Status (Active/Inactive)',\n",
    "    'Fiscal Year End', 'Is Global Ultimate', 'Global Ultimate Company',\n",
    "    'Global Ultimate Country','SIC Industry','Parent Company', 'SIC Code', 'Industry', 'Square Footage', 'Employees (Single Site)', 'Sales (Global Ultimate Total USD)', 'Employees (Global Ultimate Total)'\n",
    "]\n",
    "df = new_df.drop(variables_to_remove, axis=1)\n",
    "df.head()\n",
    "# df.describe()\n",
    "#df.info()"
   ]
  },
  {
   "cell_type": "code",
   "execution_count": null,
   "metadata": {},
   "outputs": [],
   "source": [
    "#To do -> look at the error in plots \n",
    "\n",
    "variables = df.columns\n",
    "\n",
    "# Creating scatter plots\n",
    "for i in range(len(variables)):\n",
    "    for j in range(i + 1, len(variables)):\n",
    "        try:\n",
    "            plt.scatter(df[variables[i]], df[variables[j]])\n",
    "            plt.title(f'{variables[i]} vs {variables[j]}')\n",
    "            plt.xlabel(variables[i])\n",
    "            plt.ylabel(variables[j])\n",
    "            plt.show()\n",
    "        except Exception as e:\n",
    "            print(f\"Error plotting {variables[i]} vs {variables[j]}: {e}\")\n"
   ]
  },
  {
   "cell_type": "markdown",
   "metadata": {},
   "source": [
    "MODEL SELECTION\n",
    "\n"
   ]
  },
  {
   "cell_type": "code",
   "execution_count": 6,
   "metadata": {},
   "outputs": [],
   "source": [
    "from sklearn.decomposition import PCA"
   ]
  },
  {
   "cell_type": "code",
   "execution_count": 49,
   "metadata": {},
   "outputs": [
    {
     "data": {
      "text/html": [
       "<div>\n",
       "<style scoped>\n",
       "    .dataframe tbody tr th:only-of-type {\n",
       "        vertical-align: middle;\n",
       "    }\n",
       "\n",
       "    .dataframe tbody tr th {\n",
       "        vertical-align: top;\n",
       "    }\n",
       "\n",
       "    .dataframe thead th {\n",
       "        text-align: right;\n",
       "    }\n",
       "</style>\n",
       "<table border=\"1\" class=\"dataframe\">\n",
       "  <thead>\n",
       "    <tr style=\"text-align: right;\">\n",
       "      <th></th>\n",
       "      <th>Year Found</th>\n",
       "      <th>Entity Type</th>\n",
       "      <th>Ownership Type</th>\n",
       "      <th>Employees (Domestic Ultimate Total)</th>\n",
       "      <th>Sales (Domestic Ultimate Total USD)</th>\n",
       "      <th>Is Domestic Ultimate</th>\n",
       "      <th>Industrys</th>\n",
       "    </tr>\n",
       "  </thead>\n",
       "  <tbody>\n",
       "    <tr>\n",
       "      <th>0</th>\n",
       "      <td>2020.0</td>\n",
       "      <td>Subsidiary</td>\n",
       "      <td>Private</td>\n",
       "      <td>25.0</td>\n",
       "      <td>2.209224e+06</td>\n",
       "      <td>0.0</td>\n",
       "      <td>Services</td>\n",
       "    </tr>\n",
       "    <tr>\n",
       "      <th>1</th>\n",
       "      <td>2015.0</td>\n",
       "      <td>Subsidiary</td>\n",
       "      <td>Private</td>\n",
       "      <td>100.0</td>\n",
       "      <td>7.093536e+09</td>\n",
       "      <td>0.0</td>\n",
       "      <td>Transportation</td>\n",
       "    </tr>\n",
       "    <tr>\n",
       "      <th>2</th>\n",
       "      <td>1993.0</td>\n",
       "      <td>Subsidiary</td>\n",
       "      <td>Private</td>\n",
       "      <td>4.0</td>\n",
       "      <td>1.026308e+06</td>\n",
       "      <td>1.0</td>\n",
       "      <td>Finance</td>\n",
       "    </tr>\n",
       "    <tr>\n",
       "      <th>3</th>\n",
       "      <td>2006.0</td>\n",
       "      <td>Subsidiary</td>\n",
       "      <td>Private</td>\n",
       "      <td>100.0</td>\n",
       "      <td>7.339898e+10</td>\n",
       "      <td>0.0</td>\n",
       "      <td>Finance</td>\n",
       "    </tr>\n",
       "    <tr>\n",
       "      <th>4</th>\n",
       "      <td>2006.0</td>\n",
       "      <td>Parent</td>\n",
       "      <td>Private</td>\n",
       "      <td>4.0</td>\n",
       "      <td>4.322130e+05</td>\n",
       "      <td>1.0</td>\n",
       "      <td>Finance</td>\n",
       "    </tr>\n",
       "  </tbody>\n",
       "</table>\n",
       "</div>"
      ],
      "text/plain": [
       "   Year Found Entity Type Ownership Type  Employees (Domestic Ultimate Total)  \\\n",
       "0      2020.0  Subsidiary        Private                                 25.0   \n",
       "1      2015.0  Subsidiary        Private                                100.0   \n",
       "2      1993.0  Subsidiary        Private                                  4.0   \n",
       "3      2006.0  Subsidiary        Private                                100.0   \n",
       "4      2006.0      Parent        Private                                  4.0   \n",
       "\n",
       "   Sales (Domestic Ultimate Total USD)  Is Domestic Ultimate       Industrys  \n",
       "0                         2.209224e+06                   0.0        Services  \n",
       "1                         7.093536e+09                   0.0  Transportation  \n",
       "2                         1.026308e+06                   1.0         Finance  \n",
       "3                         7.339898e+10                   0.0         Finance  \n",
       "4                         4.322130e+05                   1.0         Finance  "
      ]
     },
     "execution_count": 49,
     "metadata": {},
     "output_type": "execute_result"
    }
   ],
   "source": [
    "df.head()\n"
   ]
  },
  {
   "cell_type": "markdown",
   "metadata": {},
   "source": [
    "## The cell below is **NOT** to be removed\n",
    "##### The function is to be amended so that it accepts the given input (dataframe) and returns the required output (list). \n",
    "##### It is recommended to test the function out prior to submission\n",
    "-------------------------------------------------------------------------------------------------------------------------------\n",
    "##### The hidden_data parsed into the function below will have the same layout columns wise as the dataset *SENT* to you\n",
    "##### Thus, ensure that steps taken to modify the initial dataset to fit into the model are also carried out in the function below"
   ]
  },
  {
   "cell_type": "code",
   "execution_count": 11,
   "metadata": {},
   "outputs": [],
   "source": [
    "def testing_hidden_data(hidden_data: pd.DataFrame) -> list:\n",
    "    '''DO NOT REMOVE THIS FUNCTION.\n",
    "\n",
    "The function accepts a dataframe as input and return an iterable (list)\n",
    "of binary classes as output.\n",
    "\n",
    "The function should be coded to test on hidden data\n",
    "and should include any preprocessing functions needed for your model to perform. \n",
    "    \n",
    "All relevant code MUST be included in this function.'''\n",
    "\n",
    "    result = [] \n",
    "    return result"
   ]
  },
  {
   "cell_type": "markdown",
   "metadata": {},
   "source": [
    "##### Cell to check testing_hidden_data function"
   ]
  },
  {
   "cell_type": "code",
   "execution_count": null,
   "metadata": {},
   "outputs": [],
   "source": [
    "# This cell should output a list of predictions.\n",
    "test_df = pd.read_csv(filepath)\n",
    "test_df = test_df.drop(columns=['Sales (Domestic Ultimate Total USD)'])\n",
    "print(testing_hidden_data(test_df))"
   ]
  },
  {
   "cell_type": "markdown",
   "metadata": {},
   "source": [
    "### Please have the filename renamed and ensure that it can be run with the requirements above being met. All the best!"
   ]
  }
 ],
 "metadata": {
  "kernelspec": {
   "display_name": "Python 3",
   "language": "python",
   "name": "python3"
  },
  "language_info": {
   "codemirror_mode": {
    "name": "ipython",
    "version": 3
   },
   "file_extension": ".py",
   "mimetype": "text/x-python",
   "name": "python",
   "nbconvert_exporter": "python",
   "pygments_lexer": "ipython3",
   "version": "3.9.6"
  }
 },
 "nbformat": 4,
 "nbformat_minor": 2
}
