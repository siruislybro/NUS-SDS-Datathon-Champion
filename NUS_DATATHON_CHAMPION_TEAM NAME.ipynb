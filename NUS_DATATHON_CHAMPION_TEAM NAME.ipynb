{
 "cells": [
  {
   "cell_type": "markdown",
   "metadata": {},
   "source": [
    "##### The cell below is for you to keep track of the libraries used and install those libraries quickly\n",
    "##### Ensure that the proper library names are used and the syntax of `%pip install PACKAGE_NAME` is followed"
   ]
  },
  {
   "cell_type": "code",
   "execution_count": 3,
   "metadata": {},
   "outputs": [
    {
     "name": "stdout",
     "output_type": "stream",
     "text": [
      "Defaulting to user installation because normal site-packages is not writeable\n",
      "Requirement already satisfied: scikit-learn in /Users/jirawan/Library/Python/3.9/lib/python/site-packages (1.4.0)\n",
      "Requirement already satisfied: joblib>=1.2.0 in /Users/jirawan/Library/Python/3.9/lib/python/site-packages (from scikit-learn) (1.3.2)\n",
      "Requirement already satisfied: threadpoolctl>=2.0.0 in /Users/jirawan/Library/Python/3.9/lib/python/site-packages (from scikit-learn) (3.2.0)\n",
      "Requirement already satisfied: scipy>=1.6.0 in /Users/jirawan/Library/Python/3.9/lib/python/site-packages (from scikit-learn) (1.12.0)\n",
      "Requirement already satisfied: numpy<2.0,>=1.19.5 in /Users/jirawan/Library/Python/3.9/lib/python/site-packages (from scikit-learn) (1.26.3)\n",
      "\u001b[33mWARNING: You are using pip version 21.2.4; however, version 23.3.2 is available.\n",
      "You should consider upgrading via the '/Library/Developer/CommandLineTools/usr/bin/python3 -m pip install --upgrade pip' command.\u001b[0m\n",
      "Note: you may need to restart the kernel to use updated packages.\n"
     ]
    }
   ],
   "source": [
    "# %pip install pandas \n",
    "# %pip install matplotlib\n",
    "# %pip install statsmodels\n",
    "#%pip install seaborn\n",
    "%pip install scikit-learn\n",
    "# add commented pip installation lines for packages used as shown above for ease of testing\n",
    "# the line should be of the format %pip install PACKAGE_NAME "
   ]
  },
  {
   "cell_type": "markdown",
   "metadata": {},
   "source": [
    "## **DO NOT CHANGE** the filepath variable\n",
    "##### Instead, create a folder named 'data' in your current working directory and \n",
    "##### have the .csv file inside that. A relative path *must* be used when loading data into pandas"
   ]
  },
  {
   "cell_type": "code",
   "execution_count": 26,
   "metadata": {},
   "outputs": [],
   "source": [
    "# Can have as many cells as you want for code\n",
    "import pandas as pd\n",
    "import matplotlib.pyplot as plt\n",
    "import seaborn as sns\n",
    "import statsmodels.formula.api as sm\n",
    "\n",
    "filepath = \"./data/catA_train.csv\" \n",
    "# the initialised filepath MUST be a relative path to a folder named data that contains the parquet file"
   ]
  },
  {
   "cell_type": "markdown",
   "metadata": {},
   "source": [
    "### **ALL** Code for machine learning and dataset analysis should be entered below. \n",
    "##### Ensure that your code is clear and readable.\n",
    "##### Comments and Markdown notes are advised to direct attention to pieces of code you deem useful."
   ]
  },
  {
   "cell_type": "code",
   "execution_count": 92,
   "metadata": {},
   "outputs": [
    {
     "data": {
      "text/plain": [
       "433.99995676000003"
      ]
     },
     "execution_count": 92,
     "metadata": {},
     "output_type": "execute_result"
    }
   ],
   "source": [
    "###...code...###\n",
    "df = pd.read_csv(filepath)\n",
    "df.head\n",
    "df.shape\n",
    "\n",
    "# check if global ultimate company = domestic ultimate company means domestic sale = global sale\n",
    "a = df.loc[df['Global Ultimate Company'] == df['Domestic Ultimate Company']] \n",
    "b = a.loc[df['Sales (Domestic Ultimate Total USD)'] != df['Sales (Global Ultimate Total USD)']]\n",
    "\n",
    "a.shape #(18566, 28) \n",
    "b.shape #(18545, 28)\n",
    "\n",
    "df['Industry'].nunique() # too many industries 580\n",
    "df['8-Digit SIC Description'].nunique() #2191\n",
    "df['8-Digit SIC Code'].nunique() #2255\n",
    "df['SIC Code'].nunique() #582\n",
    "c = df.loc[df['SIC Code']>1799]\n",
    "d = c.loc[c['SIC Code']<4000]\n",
    "\n",
    "\n",
    "df.loc[df['Entity Type']=='Independent']\n",
    "df.loc[df['Sales (Domestic Ultimate Total USD)'] > df['Sales (Global Ultimate Total USD)']] #2675\n",
    "\n",
    "df.shape\n",
    "\n",
    "29182 *  0.01487218\n",
    "\n"
   ]
  },
  {
   "cell_type": "code",
   "execution_count": 93,
   "metadata": {},
   "outputs": [],
   "source": [
    "## replace the SIC Code with Sector name\n",
    "new_df = df.copy()\n",
    "\n",
    "new_df.loc[new_df['SIC Code'].between(100, 999), 'SIC Industry'] = 'Agriculture'"
   ]
  },
  {
   "cell_type": "code",
   "execution_count": 94,
   "metadata": {},
   "outputs": [
    {
     "data": {
      "text/plain": [
       "1550"
      ]
     },
     "execution_count": 94,
     "metadata": {},
     "output_type": "execute_result"
    }
   ],
   "source": [
    "## Replace missing values in Year Found by the median 2008 \n",
    "\n",
    "new_df['Year Found'].describe()\n",
    "\n",
    "new_df['Year Found'] = new_df['Year Found'].fillna(2008)\n",
    "\n",
    "\n",
    "new_df['Year Found'].describe()\n",
    "df['Year Found'].describe()\n",
    "\n",
    "len(df.loc[df['Year Found']==2008])\n",
    "len(new_df.loc[new_df['Year Found']==2008])\n",
    "\n",
    "\n"
   ]
  },
  {
   "cell_type": "code",
   "execution_count": 95,
   "metadata": {},
   "outputs": [
    {
     "name": "stdout",
     "output_type": "stream",
     "text": [
      "Axes(0.125,0.11;0.775x0.77)\n",
      "                                     Year Found  \\\n",
      "Year Found                             1.000000   \n",
      "Sales (Domestic Ultimate Total USD)    0.014523   \n",
      "\n",
      "                                     Sales (Domestic Ultimate Total USD)  \n",
      "Year Found                                                      0.014523  \n",
      "Sales (Domestic Ultimate Total USD)                             1.000000  \n"
     ]
    },
    {
     "data": {
      "text/html": [
       "<div>\n",
       "<style scoped>\n",
       "    .dataframe tbody tr th:only-of-type {\n",
       "        vertical-align: middle;\n",
       "    }\n",
       "\n",
       "    .dataframe tbody tr th {\n",
       "        vertical-align: top;\n",
       "    }\n",
       "\n",
       "    .dataframe thead th {\n",
       "        text-align: right;\n",
       "    }\n",
       "</style>\n",
       "<table border=\"1\" class=\"dataframe\">\n",
       "  <thead>\n",
       "    <tr style=\"text-align: right;\">\n",
       "      <th></th>\n",
       "      <th>Employees (Domestic Ultimate Total)</th>\n",
       "      <th>Employees (Single Site)</th>\n",
       "    </tr>\n",
       "  </thead>\n",
       "  <tbody>\n",
       "    <tr>\n",
       "      <th>Employees (Domestic Ultimate Total)</th>\n",
       "      <td>1.000000</td>\n",
       "      <td>0.139117</td>\n",
       "    </tr>\n",
       "    <tr>\n",
       "      <th>Employees (Single Site)</th>\n",
       "      <td>0.139117</td>\n",
       "      <td>1.000000</td>\n",
       "    </tr>\n",
       "  </tbody>\n",
       "</table>\n",
       "</div>"
      ],
      "text/plain": [
       "                                     Employees (Domestic Ultimate Total)  \\\n",
       "Employees (Domestic Ultimate Total)                             1.000000   \n",
       "Employees (Single Site)                                         0.139117   \n",
       "\n",
       "                                     Employees (Single Site)  \n",
       "Employees (Domestic Ultimate Total)                 0.139117  \n",
       "Employees (Single Site)                             1.000000  "
      ]
     },
     "execution_count": 95,
     "metadata": {},
     "output_type": "execute_result"
    },
    {
     "data": {
      "image/png": "[encoded data removed]",
      "text/plain": [
       "<Figure size 640x480 with 1 Axes>"
      ]
     },
     "metadata": {},
     "output_type": "display_data"
    }
   ],
   "source": [
    "## Explore Employees (Domestic Ultimate Total)\n",
    "\n",
    "new_df['Employees (Domestic Ultimate Total)'].describe() #mean = 139.764182\n",
    "# new_df.loc[new_df['Employees (Domestic Ultimate Total)'] == 80000]\n",
    "\n",
    "a = new_df[new_df['Employees (Domestic Ultimate Total)']<50000] ## remove the two rows where they have 80000 workers\n",
    "\n",
    "a['Employees (Domestic Ultimate Total)'].describe() #mean = 134.275695\n",
    "\n",
    "print(df.plot.scatter(x = 'Employees (Domestic Ultimate Total)', y = 'Employees (Single Site)'))\n",
    "\n",
    "new_df.loc[new_df['Employees (Domestic Ultimate Total)'].isna()][['Employees (Single Site)','Employees (Domestic Ultimate Total)']]\n",
    "\n",
    "print(df[['Year Found', 'Sales (Domestic Ultimate Total USD)']].corr())\n",
    "\n",
    "df[['Employees (Domestic Ultimate Total)', 'Employees (Single Site)']].corr()"
   ]
  },
  {
   "cell_type": "code",
   "execution_count": 96,
   "metadata": {},
   "outputs": [
    {
     "name": "stdout",
     "output_type": "stream",
     "text": [
      "                                        OLS Regression Results                                       \n",
      "=====================================================================================================\n",
      "Dep. Variable:     df['Employees (Domestic Ultimate Total)']   R-squared:                       0.019\n",
      "Model:                                                   OLS   Adj. R-squared:                  0.019\n",
      "Method:                                        Least Squares   F-statistic:                     329.6\n",
      "Date:                                       Sun, 28 Jan 2024   Prob (F-statistic):           5.79e-73\n",
      "Time:                                               02:27:26   Log-Likelihood:            -1.4246e+05\n",
      "No. Observations:                                      16705   AIC:                         2.849e+05\n",
      "Df Residuals:                                          16703   BIC:                         2.849e+05\n",
      "Df Model:                                                  1                                         \n",
      "Covariance Type:                                   nonrobust                                         \n",
      "=================================================================================================\n",
      "                                    coef    std err          t      P>|t|      [0.025      0.975]\n",
      "-------------------------------------------------------------------------------------------------\n",
      "Intercept                       124.1206      9.671     12.835      0.000     105.165     143.076\n",
      "df['Employees (Single Site)']     0.9913      0.055     18.156      0.000       0.884       1.098\n",
      "==============================================================================\n",
      "Omnibus:                    42615.815   Durbin-Watson:                   1.994\n",
      "Prob(Omnibus):                  0.000   Jarque-Bera (JB):       1173551582.466\n",
      "Skew:                          28.578   Prob(JB):                         0.00\n",
      "Kurtosis:                    1300.216   Cond. No.                         181.\n",
      "==============================================================================\n",
      "\n",
      "Notes:\n",
      "[1] Standard Errors assume that the covariance matrix of the errors is correctly specified.\n"
     ]
    },
    {
     "data": {
      "text/html": [
       "<div>\n",
       "<style scoped>\n",
       "    .dataframe tbody tr th:only-of-type {\n",
       "        vertical-align: middle;\n",
       "    }\n",
       "\n",
       "    .dataframe tbody tr th {\n",
       "        vertical-align: top;\n",
       "    }\n",
       "\n",
       "    .dataframe thead th {\n",
       "        text-align: right;\n",
       "    }\n",
       "</style>\n",
       "<table border=\"1\" class=\"dataframe\">\n",
       "  <thead>\n",
       "    <tr style=\"text-align: right;\">\n",
       "      <th></th>\n",
       "      <th>Employees (Single Site)</th>\n",
       "      <th>Employees (Domestic Ultimate Total)</th>\n",
       "    </tr>\n",
       "  </thead>\n",
       "  <tbody>\n",
       "    <tr>\n",
       "      <th>7727</th>\n",
       "      <td>NaN</td>\n",
       "      <td>NaN</td>\n",
       "    </tr>\n",
       "    <tr>\n",
       "      <th>10768</th>\n",
       "      <td>NaN</td>\n",
       "      <td>NaN</td>\n",
       "    </tr>\n",
       "    <tr>\n",
       "      <th>16455</th>\n",
       "      <td>NaN</td>\n",
       "      <td>NaN</td>\n",
       "    </tr>\n",
       "    <tr>\n",
       "      <th>20822</th>\n",
       "      <td>NaN</td>\n",
       "      <td>NaN</td>\n",
       "    </tr>\n",
       "    <tr>\n",
       "      <th>22660</th>\n",
       "      <td>NaN</td>\n",
       "      <td>NaN</td>\n",
       "    </tr>\n",
       "  </tbody>\n",
       "</table>\n",
       "</div>"
      ],
      "text/plain": [
       "       Employees (Single Site)  Employees (Domestic Ultimate Total)\n",
       "7727                       NaN                                  NaN\n",
       "10768                      NaN                                  NaN\n",
       "16455                      NaN                                  NaN\n",
       "20822                      NaN                                  NaN\n",
       "22660                      NaN                                  NaN"
      ]
     },
     "execution_count": 96,
     "metadata": {},
     "output_type": "execute_result"
    }
   ],
   "source": [
    "## Run OLS on Employees (Domestic Ultimate Total) using Emplyees (Single Site)\n",
    "result = sm.ols(formula=\"df['Employees (Domestic Ultimate Total)'] ~ df['Employees (Single Site)']\", data=df).fit()\n",
    "print(result.summary())\n",
    "\n",
    "# the result is significant, so can replace missing values with Employees (Single Site)\n",
    "new_df['Employees (Domestic Ultimate Total)']= new_df['Employees (Domestic Ultimate Total)'].fillna(new_df['Employees (Single Site)'])\n",
    "\n",
    "# only five rows where we cannot replace with Employees (Single Site) -> remove these rows? \n",
    "new_df.loc[new_df['Employees (Domestic Ultimate Total)'].isna()][['Employees (Single Site)','Employees (Domestic Ultimate Total)']]  \n"
   ]
  },
  {
   "cell_type": "code",
   "execution_count": 97,
   "metadata": {},
   "outputs": [],
   "source": [
    "# convert SIC Code into Industrys and add a new column to the new_df\n",
    "industry_mapping = {\n",
    "    (101, 999): 'Agriculture',\n",
    "    (1002, 1499): 'Mining',\n",
    "    (1500, 1799): 'Construction',\n",
    "    (2000, 3999): 'Manufacturing',\n",
    "    (4000, 4999): 'Transportation',\n",
    "    (5000, 5199): 'Wholesales',\n",
    "    (5200, 5999): 'Retail',\n",
    "    (6000, 6799): 'Finance',\n",
    "    (7000, 8999): 'Services',\n",
    "    (9000, 9899): 'Public',\n",
    "    (9900, 10000): 'Others'\n",
    "}\n",
    "def map_to_industry(sic_code):\n",
    "    for code_range, industry in industry_mapping.items():\n",
    "        if code_range[0] < sic_code <= code_range[1]:\n",
    "            return industry\n",
    "    return 'Other'\n",
    "\n",
    "# Create a new column 'Industry' based on the mapping\n",
    "new_df['Industrys'] = new_df['SIC Code'].map(map_to_industry)"
   ]
  },
  {
   "cell_type": "code",
   "execution_count": 98,
   "metadata": {},
   "outputs": [
    {
     "data": {
      "text/html": [
       "<div>\n",
       "<style scoped>\n",
       "    .dataframe tbody tr th:only-of-type {\n",
       "        vertical-align: middle;\n",
       "    }\n",
       "\n",
       "    .dataframe tbody tr th {\n",
       "        vertical-align: top;\n",
       "    }\n",
       "\n",
       "    .dataframe thead th {\n",
       "        text-align: right;\n",
       "    }\n",
       "</style>\n",
       "<table border=\"1\" class=\"dataframe\">\n",
       "  <thead>\n",
       "    <tr style=\"text-align: right;\">\n",
       "      <th></th>\n",
       "      <th>Import/Export Status</th>\n",
       "      <th>Sales (Domestic Ultimate Total USD)</th>\n",
       "    </tr>\n",
       "  </thead>\n",
       "  <tbody>\n",
       "    <tr>\n",
       "      <th>Import/Export Status</th>\n",
       "      <td>1.000000</td>\n",
       "      <td>-0.005679</td>\n",
       "    </tr>\n",
       "    <tr>\n",
       "      <th>Sales (Domestic Ultimate Total USD)</th>\n",
       "      <td>-0.005679</td>\n",
       "      <td>1.000000</td>\n",
       "    </tr>\n",
       "  </tbody>\n",
       "</table>\n",
       "</div>"
      ],
      "text/plain": [
       "                                     Import/Export Status  \\\n",
       "Import/Export Status                             1.000000   \n",
       "Sales (Domestic Ultimate Total USD)             -0.005679   \n",
       "\n",
       "                                     Sales (Domestic Ultimate Total USD)  \n",
       "Import/Export Status                                           -0.005679  \n",
       "Sales (Domestic Ultimate Total USD)                             1.000000  "
      ]
     },
     "execution_count": 98,
     "metadata": {},
     "output_type": "execute_result"
    },
    {
     "data": {
      "image/png": "[encoded data removed]",
      "text/plain": [
       "<Figure size 640x480 with 1 Axes>"
      ]
     },
     "metadata": {},
     "output_type": "display_data"
    }
   ],
   "source": [
    "# barplot of sales(domestic) vs industrys\n",
    "new_df.plot.box(by = 'Industrys',column = 'Sales (Domestic Ultimate Total USD)')\n",
    "#test correlation between 'import/export status' and 'sales (domestic ultimate total)'\n",
    "df_import = new_df.copy()\n",
    "\n",
    "# Simple assumption that BLANK in import/export means NEITHER\n",
    "#if import/export status is NaN replace with 0, otherwise 1\n",
    "df_import['Import/Export Status']=df_import['Import/Export Status'].fillna(0).map(lambda x:0 if x==0 else 1)\n",
    "df_import[['Import/Export Status','Sales (Domestic Ultimate Total USD)']].corr()\n",
    "\n",
    "\n",
    "# To do \n",
    "# MAKE BARPLOT OF SALES AGAINST IMPORT, EXPORT, IMPORT/EXPORT, and NAN \n"
   ]
  },
  {
   "cell_type": "code",
   "execution_count": 99,
   "metadata": {},
   "outputs": [
    {
     "data": {
      "text/html": [
       "<div>\n",
       "<style scoped>\n",
       "    .dataframe tbody tr th:only-of-type {\n",
       "        vertical-align: middle;\n",
       "    }\n",
       "\n",
       "    .dataframe tbody tr th {\n",
       "        vertical-align: top;\n",
       "    }\n",
       "\n",
       "    .dataframe thead th {\n",
       "        text-align: right;\n",
       "    }\n",
       "</style>\n",
       "<table border=\"1\" class=\"dataframe\">\n",
       "  <thead>\n",
       "    <tr style=\"text-align: right;\">\n",
       "      <th></th>\n",
       "      <th>Year Found</th>\n",
       "      <th>Entity Type</th>\n",
       "      <th>Ownership Type</th>\n",
       "      <th>Employees (Domestic Ultimate Total)</th>\n",
       "      <th>Sales (Domestic Ultimate Total USD)</th>\n",
       "      <th>Is Domestic Ultimate</th>\n",
       "      <th>Industrys</th>\n",
       "    </tr>\n",
       "  </thead>\n",
       "  <tbody>\n",
       "    <tr>\n",
       "      <th>0</th>\n",
       "      <td>2020.0</td>\n",
       "      <td>Subsidiary</td>\n",
       "      <td>Private</td>\n",
       "      <td>25.0</td>\n",
       "      <td>2.209224e+06</td>\n",
       "      <td>0.0</td>\n",
       "      <td>Services</td>\n",
       "    </tr>\n",
       "    <tr>\n",
       "      <th>1</th>\n",
       "      <td>2015.0</td>\n",
       "      <td>Subsidiary</td>\n",
       "      <td>Private</td>\n",
       "      <td>100.0</td>\n",
       "      <td>7.093536e+09</td>\n",
       "      <td>0.0</td>\n",
       "      <td>Transportation</td>\n",
       "    </tr>\n",
       "    <tr>\n",
       "      <th>2</th>\n",
       "      <td>1993.0</td>\n",
       "      <td>Subsidiary</td>\n",
       "      <td>Private</td>\n",
       "      <td>4.0</td>\n",
       "      <td>1.026308e+06</td>\n",
       "      <td>1.0</td>\n",
       "      <td>Finance</td>\n",
       "    </tr>\n",
       "    <tr>\n",
       "      <th>3</th>\n",
       "      <td>2006.0</td>\n",
       "      <td>Subsidiary</td>\n",
       "      <td>Private</td>\n",
       "      <td>100.0</td>\n",
       "      <td>7.339898e+10</td>\n",
       "      <td>0.0</td>\n",
       "      <td>Finance</td>\n",
       "    </tr>\n",
       "    <tr>\n",
       "      <th>4</th>\n",
       "      <td>2006.0</td>\n",
       "      <td>Parent</td>\n",
       "      <td>Private</td>\n",
       "      <td>4.0</td>\n",
       "      <td>4.322130e+05</td>\n",
       "      <td>1.0</td>\n",
       "      <td>Finance</td>\n",
       "    </tr>\n",
       "  </tbody>\n",
       "</table>\n",
       "</div>"
      ],
      "text/plain": [
       "   Year Found Entity Type Ownership Type  Employees (Domestic Ultimate Total)  \\\n",
       "0      2020.0  Subsidiary        Private                                 25.0   \n",
       "1      2015.0  Subsidiary        Private                                100.0   \n",
       "2      1993.0  Subsidiary        Private                                  4.0   \n",
       "3      2006.0  Subsidiary        Private                                100.0   \n",
       "4      2006.0      Parent        Private                                  4.0   \n",
       "\n",
       "   Sales (Domestic Ultimate Total USD)  Is Domestic Ultimate       Industrys  \n",
       "0                         2.209224e+06                   0.0        Services  \n",
       "1                         7.093536e+09                   0.0  Transportation  \n",
       "2                         1.026308e+06                   1.0         Finance  \n",
       "3                         7.339898e+10                   0.0         Finance  \n",
       "4                         4.322130e+05                   1.0         Finance  "
      ]
     },
     "execution_count": 99,
     "metadata": {},
     "output_type": "execute_result"
    }
   ],
   "source": [
    "\n",
    "variables_to_remove = [\n",
    "    'LATITUDE', 'LONGITUDE', 'AccountID', 'Company', '8-Digit SIC Code',\n",
    "    'Parent Country', 'Import/Export Status', 'Domestic Ultimate Company',\n",
    "    '8-Digit SIC Description', 'Company Description', 'Company Status (Active/Inactive)',\n",
    "    'Fiscal Year End', 'Is Global Ultimate', 'Global Ultimate Company',\n",
    "    'Global Ultimate Country','SIC Industry','Parent Company', 'SIC Code', 'Industry', 'Square Footage', 'Employees (Single Site)', 'Sales (Global Ultimate Total USD)', 'Employees (Global Ultimate Total)'\n",
    "]\n",
    "df = new_df.drop(variables_to_remove, axis=1)\n",
    "df.head()\n",
    "# df.describe()\n",
    "#df.info()"
   ]
  },
  {
   "cell_type": "code",
   "execution_count": null,
   "metadata": {},
   "outputs": [],
   "source": [
    "#To do -> look at the error in plots \n",
    "\n",
    "variables = df.columns\n",
    "\n",
    "# Creating scatter plots\n",
    "for i in range(len(variables)):\n",
    "    for j in range(i + 1, len(variables)):\n",
    "        try:\n",
    "            plt.scatter(df[variables[i]], df[variables[j]])\n",
    "            plt.title(f'{variables[i]} vs {variables[j]}')\n",
    "            plt.xlabel(variables[i])\n",
    "            plt.ylabel(variables[j])\n",
    "            plt.show()\n",
    "        except Exception as e:\n",
    "            print(f\"Error plotting {variables[i]} vs {variables[j]}: {e}\")\n"
   ]
  },
  {
   "cell_type": "markdown",
   "metadata": {},
   "source": [
    "MODEL SELECTION\n",
    "\n"
   ]
  },
  {
   "cell_type": "code",
   "execution_count": 6,
   "metadata": {},
   "outputs": [],
   "source": [
    "from sklearn.decomposition import PCA"
   ]
  },
  {
   "cell_type": "code",
   "execution_count": 131,
   "metadata": {},
   "outputs": [
    {
     "name": "stdout",
     "output_type": "stream",
     "text": [
      "                                          PC0       PC1       PC2       PC3  \\\n",
      "Year Found                           0.093573 -0.247495  0.155734 -0.182129   \n",
      "Employees (Domestic Ultimate Total) -0.037578  0.062535 -0.061693 -0.037892   \n",
      "Sales (Domestic Ultimate Total USD) -0.037850  0.017313 -0.032873 -0.135902   \n",
      "Is Domestic Ultimate                 0.376954 -0.145828  0.053920  0.362088   \n",
      "Construction                        -0.042509  0.010989 -0.021155  0.020128   \n",
      "Finance                              0.261116  0.017020 -0.091557 -0.679253   \n",
      "Manufacturing                       -0.056621  0.059492 -0.075893  0.133031   \n",
      "Mining                              -0.012985 -0.004883  0.002400  0.006188   \n",
      "Public                              -0.013791  0.284346  0.630912 -0.051811   \n",
      "Retail                              -0.068560  0.001257 -0.011110 -0.044471   \n",
      "Services                            -0.060273 -0.094508  0.140887  0.414504   \n",
      "Transportation                      -0.105945  0.010374 -0.026769 -0.034921   \n",
      "Wholesales                          -0.090148 -0.004206 -0.046759  0.347100   \n",
      "Independent                          0.009823 -0.030509  0.042108 -0.081777   \n",
      "Parent                               0.569147 -0.159123  0.081743  0.071474   \n",
      "Subsidiary                          -0.563078  0.163838 -0.093569 -0.048824   \n",
      "Nonprofit                            0.011983  0.034657 -0.013209  0.054144   \n",
      "Partnership                          0.060784  0.101500 -0.041444  0.080584   \n",
      "Private                             -0.225053 -0.607587  0.161495 -0.084541   \n",
      "Public                               0.222478  0.537979 -0.315248  0.074757   \n",
      "Public Sector                       -0.001293  0.310169  0.622790 -0.042148   \n",
      "\n",
      "                                          PC4       PC5       PC6       PC7  \\\n",
      "Year Found                          -0.333279 -0.198181  0.068133  0.053223   \n",
      "Employees (Domestic Ultimate Total) -0.017805  0.242121  0.054467  0.127498   \n",
      "Sales (Domestic Ultimate Total USD)  0.005862 -0.135761  0.317493 -0.012413   \n",
      "Is Domestic Ultimate                 0.157944 -0.069733  0.112215 -0.092311   \n",
      "Construction                         0.075652  0.175547 -0.050500 -0.006253   \n",
      "Finance                              0.048135 -0.115070 -0.191610 -0.190934   \n",
      "Manufacturing                        0.192975  0.730720  0.045151 -0.247693   \n",
      "Mining                              -0.013353  0.017450 -0.002315  0.255667   \n",
      "Public                               0.097730  0.015986  0.006648 -0.017024   \n",
      "Retail                              -0.007856  0.134430 -0.083267  0.449595   \n",
      "Services                            -0.661340 -0.048446 -0.116345 -0.152178   \n",
      "Transportation                       0.024532 -0.061319  0.854362  0.156588   \n",
      "Wholesales                           0.536697 -0.439975 -0.206838  0.200529   \n",
      "Independent                         -0.139438  0.211073 -0.162817  0.686068   \n",
      "Parent                               0.067400  0.080002  0.083174 -0.002759   \n",
      "Subsidiary                          -0.029870 -0.134856 -0.039062 -0.179075   \n",
      "Nonprofit                           -0.052565 -0.009497 -0.012847 -0.030526   \n",
      "Partnership                         -0.102365 -0.055183  0.094519  0.109123   \n",
      "Private                              0.140175  0.074487 -0.015287 -0.046564   \n",
      "Public                              -0.138365 -0.067598 -0.007692  0.028513   \n",
      "Public Sector                        0.075016  0.009494  0.010631 -0.011122   \n",
      "\n",
      "                                          PC8       PC9  ...      PC11  \\\n",
      "Year Found                          -0.028381  0.102640  ... -0.066968   \n",
      "Employees (Domestic Ultimate Total)  0.200645  0.077327  ...  0.061956   \n",
      "Sales (Domestic Ultimate Total USD)  0.203710  0.034433  ... -0.089141   \n",
      "Is Domestic Ultimate                -0.031842  0.058355  ...  0.047973   \n",
      "Construction                        -0.308318 -0.863055  ...  0.058125   \n",
      "Finance                              0.072784  0.009495  ... -0.035064   \n",
      "Manufacturing                        0.143181  0.222681  ... -0.150446   \n",
      "Mining                               0.111494 -0.013778  ...  0.376703   \n",
      "Public                               0.001703  0.005492  ...  0.006681   \n",
      "Retail                              -0.704512  0.377425  ...  0.110414   \n",
      "Services                             0.095910 -0.006419  ...  0.012969   \n",
      "Transportation                       0.008251 -0.067866  ...  0.083832   \n",
      "Wholesales                           0.176561  0.039349  ... -0.089198   \n",
      "Independent                          0.441880 -0.156537  ... -0.134567   \n",
      "Parent                              -0.070082 -0.007876  ...  0.036635   \n",
      "Subsidiary                          -0.047559  0.048696  ... -0.000608   \n",
      "Nonprofit                            0.007544 -0.045007  ...  0.460493   \n",
      "Partnership                         -0.206617 -0.076525  ... -0.733512   \n",
      "Private                              0.016506 -0.004347  ...  0.016393   \n",
      "Public                               0.029678  0.024515  ...  0.122758   \n",
      "Public Sector                        0.004678  0.007109  ...  0.003274   \n",
      "\n",
      "                                         PC12      PC13      PC14      PC15  \\\n",
      "Year Found                           0.025504  0.012451 -0.001283 -0.821063   \n",
      "Employees (Domestic Ultimate Total) -0.151137  0.692573  0.508403 -0.106049   \n",
      "Sales (Domestic Ultimate Total USD)  0.057581  0.450383 -0.752064  0.056156   \n",
      "Is Domestic Ultimate                -0.027344  0.049337  0.003243 -0.119981   \n",
      "Construction                        -0.089255  0.136219 -0.112860 -0.206027   \n",
      "Finance                              0.056278 -0.005875  0.096894  0.114597   \n",
      "Manufacturing                        0.127962 -0.102987 -0.163945 -0.271706   \n",
      "Mining                               0.081067  0.291429 -0.033657  0.100139   \n",
      "Public                              -0.002648  0.018916  0.005102  0.013470   \n",
      "Retail                              -0.049083  0.069033 -0.163940  0.024993   \n",
      "Services                            -0.087248  0.056607 -0.038935  0.202196   \n",
      "Transportation                      -0.047941 -0.259806  0.220234  0.051157   \n",
      "Wholesales                           0.021002  0.046355  0.021508 -0.185571   \n",
      "Independent                          0.046515 -0.270837 -0.097002 -0.001103   \n",
      "Parent                              -0.025263  0.059892 -0.013600  0.110697   \n",
      "Subsidiary                           0.012784  0.011790  0.038640 -0.108317   \n",
      "Nonprofit                            0.832996 -0.012093  0.050859 -0.057143   \n",
      "Partnership                          0.451251  0.196786  0.173106  0.119918   \n",
      "Private                             -0.005859  0.025769  0.020174  0.119632   \n",
      "Public                              -0.158354 -0.077034 -0.065916 -0.150473   \n",
      "Public Sector                       -0.003209  0.016045  0.001214 -0.017309   \n",
      "\n",
      "                                         PC16      PC17      PC18      PC19  \\\n",
      "Year Found                          -0.107704 -0.021112  0.002333  0.000944   \n",
      "Employees (Domestic Ultimate Total)  0.034200  0.000221  0.000252 -0.000541   \n",
      "Sales (Domestic Ultimate Total USD)  0.034296 -0.000420 -0.000056  0.000146   \n",
      "Is Domestic Ultimate                 0.790325  0.013323  0.000329  0.000424   \n",
      "Construction                         0.029109  0.007236  0.000573 -0.175389   \n",
      "Finance                              0.203699  0.032538  0.001778 -0.545844   \n",
      "Manufacturing                       -0.067002  0.009193  0.001082 -0.304589   \n",
      "Mining                              -0.033495  0.004933  0.000165 -0.088685   \n",
      "Public                               0.031021 -0.709277 -0.003619 -0.057911   \n",
      "Retail                               0.076585  0.012455  0.000542 -0.231100   \n",
      "Services                            -0.028522  0.014484 -0.000602 -0.499298   \n",
      "Transportation                      -0.020054  0.011645  0.000680 -0.307106   \n",
      "Wholesales                          -0.222507  0.012629  0.000850 -0.412645   \n",
      "Independent                          0.238466  0.000127  0.000157 -0.000196   \n",
      "Parent                              -0.346251 -0.007441 -0.000761  0.000527   \n",
      "Subsidiary                           0.279217  0.003048  0.000737  0.000744   \n",
      "Nonprofit                           -0.001085 -0.006803 -0.047196 -0.000044   \n",
      "Partnership                          0.020084 -0.021089 -0.158441 -0.000216   \n",
      "Private                              0.017281 -0.059486 -0.706409 -0.001273   \n",
      "Public                              -0.022603 -0.096722 -0.668649 -0.000953   \n",
      "Public Sector                        0.002094  0.693522 -0.162902 -0.000095   \n",
      "\n",
      "                                         PC20  \n",
      "Year Found                          -0.000211  \n",
      "Employees (Domestic Ultimate Total) -0.000699  \n",
      "Sales (Domestic Ultimate Total USD) -0.000003  \n",
      "Is Domestic Ultimate                 0.000584  \n",
      "Construction                        -0.000087  \n",
      "Finance                             -0.000111  \n",
      "Manufacturing                       -0.000350  \n",
      "Mining                              -0.000051  \n",
      "Public                               0.001012  \n",
      "Retail                              -0.000580  \n",
      "Services                            -0.000389  \n",
      "Transportation                      -0.000334  \n",
      "Wholesales                          -0.000700  \n",
      "Independent                         -0.184831  \n",
      "Parent                              -0.689912  \n",
      "Subsidiary                          -0.699890  \n",
      "Nonprofit                            0.000023  \n",
      "Partnership                          0.000103  \n",
      "Private                              0.000330  \n",
      "Public                               0.000354  \n",
      "Public Sector                       -0.003146  \n",
      "\n",
      "[21 rows x 21 columns]\n"
     ]
    },
    {
     "data": {
      "image/png": "[encoded data removed]",
      "text/plain": [
       "<Figure size 640x480 with 1 Axes>"
      ]
     },
     "metadata": {},
     "output_type": "display_data"
    },
    {
     "data": {
      "image/png": "[encoded data removed]",
      "text/plain": [
       "<Figure size 800x400 with 1 Axes>"
      ]
     },
     "metadata": {},
     "output_type": "display_data"
    }
   ],
   "source": [
    "df_copy = df.copy()\n",
    "\n",
    "#df=df.join(pd.get_dummies(df.Industrys))\n",
    "df_copy=pd.get_dummies(df_copy, columns=['Industrys'],drop_first=True)\n",
    "df_copy=pd.get_dummies(df_copy, columns=['Entity Type'],drop_first=True)\n",
    "df_copy=pd.get_dummies(df_copy, columns=['Ownership Type'],drop_first=True)\n",
    "\n",
    "df_copy.columns = df_copy.columns.str.replace('Industrys_', '')\n",
    "df_copy.columns = df_copy.columns.str.replace('Entity Type_', '')\n",
    "df_copy.columns = df_copy.columns.str.replace('Ownership Type_', '')\n",
    "df_copy = df_copy.dropna()\n",
    "\n",
    "df_normalized=(df_copy - df_copy.mean()) / df_copy.std()\n",
    "pca = PCA(n_components=df_copy.shape[1])\n",
    "#pca.fit(df_normalized)\n",
    "pca.fit(df_normalized)\n",
    "\n",
    "\n",
    "loadings = pd.DataFrame(pca.components_.T, columns=['PC%s' % _ for _ in range(len(df_normalized.columns))],index=df_normalized.columns)\n",
    "print(loadings)\n",
    "\n",
    "plt.plot(pca.explained_variance_ratio_)\n",
    "plt.ylabel('Explained Variance')\n",
    "plt.xlabel('Components')\n",
    "plt.show()\n",
    "\n",
    "# Calculate the cumulative variance explained by each component\n",
    "cumulative_variance = pca.explained_variance_ratio_.cumsum()\n",
    "\n",
    "# Plotting\n",
    "plt.figure(figsize=(8, 4))\n",
    "plt.plot(cumulative_variance, marker='o')\n",
    "plt.xlabel('Number of Components')\n",
    "plt.ylabel('Cumulative Explained Variance')\n",
    "plt.title('Cumulative Explained Variance as a Function of the Number of Components')\n",
    "plt.grid(True)\n",
    "plt.show()"
   ]
  },
  {
   "cell_type": "markdown",
   "metadata": {},
   "source": [
    "## The cell below is **NOT** to be removed\n",
    "##### The function is to be amended so that it accepts the given input (dataframe) and returns the required output (list). \n",
    "##### It is recommended to test the function out prior to submission\n",
    "-------------------------------------------------------------------------------------------------------------------------------\n",
    "##### The hidden_data parsed into the function below will have the same layout columns wise as the dataset *SENT* to you\n",
    "##### Thus, ensure that steps taken to modify the initial dataset to fit into the model are also carried out in the function below"
   ]
  },
  {
   "cell_type": "code",
   "execution_count": 11,
   "metadata": {},
   "outputs": [],
   "source": [
    "def testing_hidden_data(hidden_data: pd.DataFrame) -> list:\n",
    "    '''DO NOT REMOVE THIS FUNCTION.\n",
    "\n",
    "The function accepts a dataframe as input and return an iterable (list)\n",
    "of binary classes as output.\n",
    "\n",
    "The function should be coded to test on hidden data\n",
    "and should include any preprocessing functions needed for your model to perform. \n",
    "    \n",
    "All relevant code MUST be included in this function.'''\n",
    "\n",
    "    result = [] \n",
    "    return result"
   ]
  },
  {
   "cell_type": "markdown",
   "metadata": {},
   "source": [
    "##### Cell to check testing_hidden_data function"
   ]
  },
  {
   "cell_type": "code",
   "execution_count": null,
   "metadata": {},
   "outputs": [],
   "source": [
    "# This cell should output a list of predictions.\n",
    "test_df = pd.read_csv(filepath)\n",
    "test_df = test_df.drop(columns=['Sales (Domestic Ultimate Total USD)'])\n",
    "print(testing_hidden_data(test_df))"
   ]
  },
  {
   "cell_type": "markdown",
   "metadata": {},
   "source": [
    "### Please have the filename renamed and ensure that it can be run with the requirements above being met. All the best!"
   ]
  }
 ],
 "metadata": {
  "kernelspec": {
   "display_name": "Python 3",
   "language": "python",
   "name": "python3"
  },
  "language_info": {
   "codemirror_mode": {
    "name": "ipython",
    "version": 3
   },
   "file_extension": ".py",
   "mimetype": "text/x-python",
   "name": "python",
   "nbconvert_exporter": "python",
   "pygments_lexer": "ipython3",
   "version": "3.9.6"
  }
 },
 "nbformat": 4,
 "nbformat_minor": 2
}
